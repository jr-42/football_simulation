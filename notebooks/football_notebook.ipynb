{
 "cells": [
  {
   "cell_type": "code",
   "execution_count": null,
   "id": "c6bb2e72",
   "metadata": {},
   "outputs": [],
   "source": [
    "import random\n",
    "random.seed(0)"
   ]
  },
  {
   "cell_type": "code",
   "execution_count": null,
   "id": "7903b73d",
   "metadata": {},
   "outputs": [],
   "source": [
    "from football.leagues import League"
   ]
  },
  {
   "cell_type": "code",
   "execution_count": null,
   "id": "1604a74a",
   "metadata": {},
   "outputs": [],
   "source": []
  },
  {
   "cell_type": "code",
   "execution_count": null,
   "id": "afeba0d6",
   "metadata": {},
   "outputs": [],
   "source": [
    "l = League(\"Joe's League\")"
   ]
  },
  {
   "cell_type": "code",
   "execution_count": null,
   "id": "aa2be519",
   "metadata": {},
   "outputs": [],
   "source": [
    "l"
   ]
  },
  {
   "cell_type": "code",
   "execution_count": null,
   "id": "80f18c7f",
   "metadata": {},
   "outputs": [],
   "source": [
    "l.teams"
   ]
  },
  {
   "cell_type": "code",
   "execution_count": null,
   "id": "557fa630",
   "metadata": {},
   "outputs": [],
   "source": [
    "te = l.get_team('Talgarth City')"
   ]
  },
  {
   "cell_type": "code",
   "execution_count": null,
   "id": "6cefb6c0",
   "metadata": {},
   "outputs": [],
   "source": [
    "te.squadlist"
   ]
  },
  {
   "cell_type": "code",
   "execution_count": null,
   "id": "dcd67d38",
   "metadata": {},
   "outputs": [],
   "source": []
  },
  {
   "cell_type": "code",
   "execution_count": null,
   "id": "9dfc74cc",
   "metadata": {},
   "outputs": [],
   "source": [
    "season = l.new_season()"
   ]
  },
  {
   "cell_type": "code",
   "execution_count": null,
   "id": "ea180859",
   "metadata": {},
   "outputs": [],
   "source": [
    "round1 = season.fixtures_by_round(1)"
   ]
  },
  {
   "cell_type": "code",
   "execution_count": null,
   "id": "514c4fa1",
   "metadata": {},
   "outputs": [],
   "source": [
    "season.play_season()"
   ]
  },
  {
   "cell_type": "code",
   "execution_count": null,
   "id": "404d5d8b",
   "metadata": {},
   "outputs": [],
   "source": [
    "round1_results = season.results_by_round(1)"
   ]
  },
  {
   "cell_type": "code",
   "execution_count": null,
   "id": "fd11b53d",
   "metadata": {},
   "outputs": [],
   "source": [
    "oxford_results = season.results_by_team('Talgarth City')"
   ]
  },
  {
   "cell_type": "code",
   "execution_count": null,
   "id": "94f11bf7",
   "metadata": {},
   "outputs": [],
   "source": [
    "season.league_table"
   ]
  },
  {
   "cell_type": "code",
   "execution_count": null,
   "id": "3957c1ca",
   "metadata": {},
   "outputs": [],
   "source": [
    "te.name"
   ]
  },
  {
   "cell_type": "code",
   "execution_count": null,
   "id": "8f26976e",
   "metadata": {},
   "outputs": [],
   "source": [
    "print(te.wins('1'), te.loses('1'), te.goals_for('1'))"
   ]
  },
  {
   "cell_type": "code",
   "execution_count": null,
   "id": "1300d2ff",
   "metadata": {},
   "outputs": [],
   "source": [
    "ru = te.get_player('Rudy')"
   ]
  },
  {
   "cell_type": "code",
   "execution_count": null,
   "id": "9271a61d",
   "metadata": {},
   "outputs": [],
   "source": [
    "ru.info"
   ]
  },
  {
   "cell_type": "code",
   "execution_count": null,
   "id": "02eef636",
   "metadata": {},
   "outputs": [],
   "source": [
    "l.current_season"
   ]
  },
  {
   "cell_type": "code",
   "execution_count": null,
   "id": "ee223120",
   "metadata": {},
   "outputs": [],
   "source": [
    "te.matches(season='1')"
   ]
  },
  {
   "cell_type": "code",
   "execution_count": null,
   "id": "228ed5ac",
   "metadata": {},
   "outputs": [],
   "source": [
    "te.matches(season='1', roundd='2')"
   ]
  },
  {
   "cell_type": "code",
   "execution_count": null,
   "id": "03cf1209",
   "metadata": {},
   "outputs": [],
   "source": [
    "season2 = l.new_season()"
   ]
  },
  {
   "cell_type": "code",
   "execution_count": null,
   "id": "7233a259",
   "metadata": {},
   "outputs": [],
   "source": [
    "season2.play_season()"
   ]
  },
  {
   "cell_type": "code",
   "execution_count": null,
   "id": "e55cd906",
   "metadata": {},
   "outputs": [],
   "source": [
    "season2.league_table"
   ]
  },
  {
   "cell_type": "code",
   "execution_count": null,
   "id": "85b7791e",
   "metadata": {},
   "outputs": [],
   "source": []
  },
  {
   "cell_type": "code",
   "execution_count": null,
   "id": "b71845d1",
   "metadata": {},
   "outputs": [],
   "source": []
  }
 ],
 "metadata": {
  "kernelspec": {
   "display_name": "Python 3",
   "language": "python",
   "name": "python3"
  },
  "language_info": {
   "codemirror_mode": {
    "name": "ipython",
    "version": 3
   },
   "file_extension": ".py",
   "mimetype": "text/x-python",
   "name": "python",
   "nbconvert_exporter": "python",
   "pygments_lexer": "ipython3",
   "version": "3.8.2"
  }
 },
 "nbformat": 4,
 "nbformat_minor": 5
}
