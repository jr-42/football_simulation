{
 "cells": [
  {
   "cell_type": "code",
   "execution_count": null,
   "id": "7903b73d",
   "metadata": {},
   "outputs": [],
   "source": [
    "from football.leagues import League"
   ]
  },
  {
   "cell_type": "code",
   "execution_count": null,
   "id": "afeba0d6",
   "metadata": {},
   "outputs": [],
   "source": [
    "l = League(\"Joe's League\")"
   ]
  },
  {
   "cell_type": "code",
   "execution_count": null,
   "id": "aa2be519",
   "metadata": {},
   "outputs": [],
   "source": [
    "l"
   ]
  },
  {
   "cell_type": "code",
   "execution_count": null,
   "id": "80f18c7f",
   "metadata": {},
   "outputs": [],
   "source": [
    "l.teams"
   ]
  },
  {
   "cell_type": "code",
   "execution_count": null,
   "id": "557fa630",
   "metadata": {},
   "outputs": [],
   "source": [
    "te = l.get_team('Witney Wanderers')"
   ]
  },
  {
   "cell_type": "code",
   "execution_count": null,
   "id": "6cefb6c0",
   "metadata": {},
   "outputs": [],
   "source": [
    "te.theteam"
   ]
  },
  {
   "cell_type": "code",
   "execution_count": null,
   "id": "dcd67d38",
   "metadata": {},
   "outputs": [],
   "source": [
    "print(te.wins, te.loses, te.goals_for)"
   ]
  },
  {
   "cell_type": "code",
   "execution_count": null,
   "id": "9dfc74cc",
   "metadata": {},
   "outputs": [],
   "source": [
    "season = l.create_season()"
   ]
  },
  {
   "cell_type": "code",
   "execution_count": null,
   "id": "ea180859",
   "metadata": {},
   "outputs": [],
   "source": [
    "round1 = season.fixtures(1)"
   ]
  },
  {
   "cell_type": "code",
   "execution_count": null,
   "id": "514c4fa1",
   "metadata": {},
   "outputs": [],
   "source": [
    "season.play_season()"
   ]
  },
  {
   "cell_type": "code",
   "execution_count": null,
   "id": "404d5d8b",
   "metadata": {},
   "outputs": [],
   "source": [
    "round1_results = season.results(1)"
   ]
  },
  {
   "cell_type": "code",
   "execution_count": null,
   "id": "94f11bf7",
   "metadata": {},
   "outputs": [],
   "source": [
    "season.league_table"
   ]
  },
  {
   "cell_type": "code",
   "execution_count": null,
   "id": "3957c1ca",
   "metadata": {},
   "outputs": [],
   "source": []
  },
  {
   "cell_type": "code",
   "execution_count": null,
   "id": "8f26976e",
   "metadata": {},
   "outputs": [],
   "source": [
    "print(te.wins, te.loses, te.goals_for)"
   ]
  },
  {
   "cell_type": "code",
   "execution_count": null,
   "id": "1300d2ff",
   "metadata": {},
   "outputs": [],
   "source": [
    "te.theteam"
   ]
  },
  {
   "cell_type": "code",
   "execution_count": null,
   "id": "9271a61d",
   "metadata": {},
   "outputs": [],
   "source": [
    "eleanor = te.get_player('ELEANOR')"
   ]
  },
  {
   "cell_type": "code",
   "execution_count": null,
   "id": "02eef636",
   "metadata": {},
   "outputs": [],
   "source": [
    "eleanor.info"
   ]
  },
  {
   "cell_type": "code",
   "execution_count": null,
   "id": "ee223120",
   "metadata": {},
   "outputs": [],
   "source": []
  }
 ],
 "metadata": {
  "kernelspec": {
   "display_name": "Python 3",
   "language": "python",
   "name": "python3"
  },
  "language_info": {
   "codemirror_mode": {
    "name": "ipython",
    "version": 3
   },
   "file_extension": ".py",
   "mimetype": "text/x-python",
   "name": "python",
   "nbconvert_exporter": "python",
   "pygments_lexer": "ipython3",
   "version": "3.8.2"
  }
 },
 "nbformat": 4,
 "nbformat_minor": 5
}
